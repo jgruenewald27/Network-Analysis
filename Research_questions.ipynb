{
 "cells": [
  {
   "cell_type": "markdown",
   "metadata": {
    "jupyter": {
     "outputs_hidden": false
    }
   },
   "source": [
    "# Answering research questions - Betweenness Centrality using Python"
   ]
  },
  {
   "cell_type": "markdown",
   "metadata": {},
   "source": [
    "## Question 1: "
   ]
  },
  {
   "cell_type": "markdown",
   "metadata": {},
   "source": [
    "#### Calculate the betweenness centrality based on the shortest route and the one based on fastest route using the networkx package. Where are the biggest differences between them? Which one do you think is more realistic? Create figures to show your findings."
   ]
  },
  {
   "cell_type": "markdown",
   "metadata": {},
   "source": [
    "Both betweenness centrality calculations (shortest and fastest) using the networkx package seem reasonable. The main traffic axes of Heidelberg are linked to the highest centrality values. The main difference between the two graphs are the centrality values themselves. For the fastest routes the range of centrality values is wider than for the shortest routes. This makes sense because the main traffic axes are usually the fastest roads and are therefore used more often when taking the fastest route rather than the shortest. It is also noticeable that the roads and routes on the outskirts of the city become less important when choosing the fastest route. The centrality values are more spread out when looking at the results of the shortest route, as more routes are considered.\n",
    "\n",
    "Therefore, the graph with the fastest routes provides a more realistic picture of the actual centrality of the city of Heidelberg."
   ]
  },
  {
   "cell_type": "markdown",
   "metadata": {},
   "source": [
    "![Centrality_Plot_ShortestRoutes.png](img/Centrality_Plot_ShortestRoutes.png)"
   ]
  },
  {
   "cell_type": "markdown",
   "metadata": {},
   "source": [
    "![Centrality_Plot_FastestRoutes.png](img/Centrality_Plot_FastestRoutes.png)"
   ]
  },
  {
   "cell_type": "markdown",
   "metadata": {},
   "source": [
    "## Question 2:"
   ]
  },
  {
   "cell_type": "markdown",
   "metadata": {},
   "source": [
    "#### Calculate the geographically adapted betweenness centrality using your own implementation from the notebook several times with increasing number of routes. Compare the centrality index to the one calculated using the ox.edge_betweenness_centrality function from the networkx package. How does the difference between the two change with increasing number of routes? Create a figure to show this."
   ]
  },
  {
   "cell_type": "markdown",
   "metadata": {},
   "source": [
    "The geographically adapted betweenness centrality needs a reasonable number of routes to provide meaningful results. For a city of the size of Heidelberg, this starts at around 100 routes, with even better results for 250 and 500 routes.\n",
    "\n",
    "As the number of routes increases, the geographically adjusted betweenness centrality develops a similar pattern to the networkx calculation. The major difference is that it emphasizes the main traffic axes even more and is therefore even more plausible. It also highlights other main routes that may not be the fastest, but are frequently used in practice, such as the roads up the Königstuhl.\n",
    "\n",
    "Another difference is the range of centrality values. The networkx centrality values seem to be normalized where the geographical approach has absolute values. But this difference does not change the results in the graphs where the geographical approach gives good results."
   ]
  },
  {
   "cell_type": "markdown",
   "metadata": {},
   "source": [
    "![Centrality_Plot_FastestRoutes.png](img/Centrality_Plot_FastestRoutes.png) ![geographical_centrality_fast_plot_500.png](img/geographical_centrality_fast_plot_500.png)"
   ]
  },
  {
   "cell_type": "markdown",
   "metadata": {},
   "source": [
    "![geographical_centrality_fast_plot_100.png](img/geographical_centrality_fast_plot_100.png) ![geographical_centrality_fast_plot_10.png](img/geographical_centrality_fast_plot_10.png)"
   ]
  },
  {
   "cell_type": "markdown",
   "metadata": {},
   "source": [
    "## Question 3:"
   ]
  },
  {
   "cell_type": "markdown",
   "metadata": {},
   "source": [
    "#### Bonus: Implement a function to choose the start and end nodes for the routes using the population data. Calculate the betweenness centrality based on this implementation and compare it with the betweenness centrality based on random start and endpoints. How do the resulting betweenness centrality indices differ?"
   ]
  },
  {
   "cell_type": "markdown",
   "metadata": {},
   "source": [
    "Both centrality indices differ in the spatial extent and in the absolute values.\n",
    "With a route count (n) of 50, the centrality index, which is based on population data, focuses primarily on graphs in the populous city center. The completely random geographical approach shows a broader spatial extent at n=50, covering the entire city area. With an increase to n=100, the difference in the absolute centrality values becomes clearer. As the approach based on population distribution focuses on the city center, e.g. Old Bridge, significantly higher values are calculated in this area. The methodology should certainly be questioned or adapted so that 2 points in the city center are not so often used for the centrality calculation. This represents an exciting further development to implement this weighting even more meaningfully. The random approach shows a broader picture with smaller values, but strongly emphasizes graphs that cover a relatively large amount of space (due to the nearest node approach).  "
   ]
  },
  {
   "cell_type": "markdown",
   "metadata": {},
   "source": [
    "![Geographical_Centrality_Short_Routes_50.png](img/Geographical_Centrality_Short_Routes_50.png)"
   ]
  },
  {
   "cell_type": "markdown",
   "metadata": {},
   "source": [
    "![Geographical_Centrality_Short_Routes_100.png](img/Geographical_Centrality_Short_Routes_100.png)"
   ]
  },
  {
   "cell_type": "markdown",
   "metadata": {},
   "source": [
    "![GeographicaL_Centrality_Population_Short_Routes_50.png](img/GeographicaL_Centrality_Population_Short_Routes_50.png)"
   ]
  },
  {
   "cell_type": "markdown",
   "metadata": {},
   "source": [
    "![GeographicaL_Centrality_Population_Short_Routes_100.png](img/GeographicaL_Centrality_Population_Short_Routes_100.png)"
   ]
  }
 ],
 "metadata": {
  "kernelspec": {
   "display_name": "Python 3 (ipykernel)",
   "language": "python",
   "name": "python3"
  },
  "language_info": {
   "codemirror_mode": {
    "name": "ipython",
    "version": 3
   },
   "file_extension": ".py",
   "mimetype": "text/x-python",
   "name": "python",
   "nbconvert_exporter": "python",
   "pygments_lexer": "ipython3",
   "version": "3.9.16"
  }
 },
 "nbformat": 4,
 "nbformat_minor": 4
}
